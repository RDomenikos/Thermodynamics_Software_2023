{
 "cells": [
  {
   "cell_type": "code",
   "execution_count": 2,
   "metadata": {},
   "outputs": [
    {
     "name": "stdout",
     "output_type": "stream",
     "text": [
      "[[-2.32379001e+00  1.48851609e-16]\n",
      " [-7.74596669e-01  4.41975897e-17]\n",
      " [ 7.74596669e-01 -4.41975897e-17]\n",
      " [ 2.32379001e+00 -1.48851609e-16]]\n"
     ]
    }
   ],
   "source": [
    "import numpy as np\n",
    "\n",
    "def pca(X, num_components):\n",
    "\n",
    "    X_standardized = (X - np.mean(X, axis=0))/np.std(X, axis=0)\n",
    "\n",
    "    covariance_matrix = np.cov(X_standardized.T)\n",
    "\n",
    "    eigenvalues , eigenvectors = np.linalg.eig(covariance_matrix)\n",
    "\n",
    "    eigenvectors = eigenvectors[:, eigenvalues.argsort()[::-1]]\n",
    "\n",
    "    components = eigenvectors[:, :num_components]\n",
    "\n",
    "    X_transformed = np.dot(X_standardized, components)\n",
    "\n",
    "    return X_transformed\n",
    "\n",
    "X_example = np.array(([1,2,3], [4,5,6], [7,8,9], [10,11,12]))\n",
    "\n",
    "num_components = 2\n",
    "X_pca = pca(X_example, num_components)\n",
    "\n",
    "print(X_pca)"
   ]
  },
  {
   "cell_type": "code",
   "execution_count": 18,
   "metadata": {},
   "outputs": [],
   "source": [
    "X_example = np.random.rand(100,5)\n",
    "y_example = np.random.randint(0,2,100)"
   ]
  },
  {
   "cell_type": "code",
   "execution_count": 20,
   "metadata": {},
   "outputs": [
    {
     "data": {
      "text/plain": [
       "<function matplotlib.pyplot.show(close=None, block=None)>"
      ]
     },
     "execution_count": 20,
     "metadata": {},
     "output_type": "execute_result"
    },
    {
     "data": {
      "image/png": "[encoded data removed]",
      "text/plain": [
       "<Figure size 432x288 with 1 Axes>"
      ]
     },
     "metadata": {
      "needs_background": "light"
     },
     "output_type": "display_data"
    }
   ],
   "source": [
    "from sklearn.neighbors import KNeighborsClassifier\n",
    "from sklearn.model_selection import train_test_split\n",
    "from sklearn.metrics import roc_curve, auc\n",
    "import matplotlib.pyplot as plt\n",
    "\n",
    "X_example = np.random.rand(100,5)\n",
    "y_example = np.random.randint(0,2,100)\n",
    "\n",
    "\n",
    "num_components = 2\n",
    "X_pca = pca(X_example,num_components)\n",
    "\n",
    "X_train, X_test, y_train, y_test = train_test_split(X_pca, y_example, test_size=0.3, random_state=42)\n",
    "\n",
    "knn_classifier = KNeighborsClassifier(n_neighbors=5)\n",
    "knn_classifier.fit(X_train,y_train)\n",
    "\n",
    "y_scores = knn_classifier.predict_proba(X_test)[:, 1]\n",
    "\n",
    "false_positive_rate, true_positive_rate, _ = roc_curve(y_test, y_scores)\n",
    "roc_auc = auc(false_positive_rate, true_positive_rate)\n",
    "\n",
    "plt.figure()\n",
    "plt.plot(false_positive_rate, true_positive_rate)\n",
    "plt.plot([0,1], [0,1])\n",
    "plt.xlim([0.0, 1.0])\n",
    "plt.ylim([0.0, 1.0])\n",
    "plt.xlabel('true positive rate')\n",
    "plt.ylabel('false positive rate')\n",
    "plt.show\n",
    "\n",
    "\n"
   ]
  },
  {
   "cell_type": "code",
   "execution_count": 19,
   "metadata": {},
   "outputs": [],
   "source": [
    "import pandas as pd\n",
    "import numpy as np"
   ]
  },
  {
   "cell_type": "code",
   "execution_count": 20,
   "metadata": {},
   "outputs": [],
   "source": [
    "T,P,dens,G,A,U,H,S,Cp,Cv,ratio = np.loadtxt('superfluid data.txt', unpack = True)"
   ]
  },
  {
   "cell_type": "code",
   "execution_count": 21,
   "metadata": {},
   "outputs": [],
   "source": [
    "# function to give values of feature with given pressure\n",
    "\n",
    "def Pressure_finder(Matrix, Pressure):\n",
    "    k=-1\n",
    "    tmp=[]\n",
    "    for i in range(0,len(T)):\n",
    "        if P[i]==Pressure:\n",
    "            k=k+1\n",
    "            tmp.append(0)\n",
    "    k=-1\n",
    "    for i in range(0,len(T)):\n",
    "        if P[i]==Pressure:\n",
    "            k=k+1\n",
    "            tmp[k]=Matrix[i]\n",
    "    \n",
    "    return tmp\n"
   ]
  },
  {
   "cell_type": "code",
   "execution_count": 22,
   "metadata": {},
   "outputs": [],
   "source": [
    "T0=Pressure_finder(T,0); T25=Pressure_finder(T,2.5); T5=Pressure_finder(T,5); T75=Pressure_finder(T,7.5); T10=Pressure_finder(T,10); T125=Pressure_finder(T,12.5); T15=Pressure_finder(T,15); T175=Pressure_finder(T,17.5); T20=Pressure_finder(T,20); T225=Pressure_finder(T,22.5)\n",
    "\n",
    "S0=Pressure_finder(S,0); S25=Pressure_finder(S,2.5); S5=Pressure_finder(S,5); S75=Pressure_finder(S,7.5); S10=Pressure_finder(S,10); S125=Pressure_finder(S,12.5); S15=Pressure_finder(S,15); S175=Pressure_finder(S,17.5); S20=Pressure_finder(S,20); S225=Pressure_finder(S,22.5)\n"
   ]
  },
  {
   "cell_type": "code",
   "execution_count": 27,
   "metadata": {},
   "outputs": [
    {
     "data": {
      "text/plain": [
       "[6.8889e-06,\n",
       " 2.3112e-05,\n",
       " 5.4383e-05,\n",
       " 0.00010534,\n",
       " 0.00018041,\n",
       " 0.00028386,\n",
       " 0.00041983,\n",
       " 0.00059254,\n",
       " 0.00080709,\n",
       " 0.0010714,\n",
       " 0.0010517,\n",
       " 0.0018226,\n",
       " 0.0023865,\n",
       " 0.0031649,\n",
       " 0.0042735,\n",
       " 0.0058517,\n",
       " 0.00803,\n",
       " 0.01123,\n",
       " 0.015562,\n",
       " 0.021457,\n",
       " 0.029213,\n",
       " 0.039275,\n",
       " 0.051689,\n",
       " 0.06691,\n",
       " 0.085256,\n",
       " 0.10675,\n",
       " 0.13301,\n",
       " 0.16481,\n",
       " 0.20076,\n",
       " 0.2402,\n",
       " 0.28431,\n",
       " 0.33558,\n",
       " 0.39554,\n",
       " 0.46502,\n",
       " 0.54155,\n",
       " 0.62676,\n",
       " 0.72189,\n",
       " 0.82613,\n",
       " 0.95098,\n",
       " 1.092,\n",
       " 1.2394]"
      ]
     },
     "execution_count": 27,
     "metadata": {},
     "output_type": "execute_result"
    }
   ],
   "source": [
    "S0"
   ]
  },
  {
   "cell_type": "code",
   "execution_count": 28,
   "metadata": {},
   "outputs": [],
   "source": [
    "def RegX(X,Y):\n",
    "    Y=np.log(Y)\n",
    "    tmp = np.polyfit(X, Y, 15)\n",
    "    return tmp\n",
    "\n",
    "def Reg(X,Y,t):\n",
    "    f=np.poly1d(RegX(X,Y))\n",
    "    tmp=f(t)\n",
    "    return np.exp(tmp)"
   ]
  },
  {
   "cell_type": "code",
   "execution_count": 29,
   "metadata": {},
   "outputs": [],
   "source": [
    "\n",
    "\n",
    "def linear(p,X,Y):\n",
    "    Z=np.polyfit(X,Y,1)\n",
    "    f=np.poly1d(Z)\n",
    "    tmp=f(p)\n",
    "    return tmp\n"
   ]
  },
  {
   "cell_type": "code",
   "execution_count": 32,
   "metadata": {},
   "outputs": [],
   "source": [
    "def S(T,P):\n",
    "    if P<=2.5:\n",
    "        X=(0,2.5)\n",
    "        Y=(Reg(T0,S0,T),Reg(T25,S25,T))\n",
    "        tmp=linear(P,X,Y)\n",
    "    if P>2.5 and P<=5:\n",
    "        X=(2.5,5)\n",
    "        Y=(Reg(T25,S25,T),Reg(T5,S5,T))\n",
    "        tmp=linear(P,X,Y)\n",
    "    if P>5 and P<=7.5:\n",
    "        X=(5,7.5)\n",
    "        Y=(Reg(T5,S5,T),Reg(T75,S75,T))\n",
    "        tmp=linear(P,X,Y)\n",
    "    if P>7.5 and P<=10:\n",
    "        X=(7.5,10)\n",
    "        Y=(Reg(T75,S75,T),Reg(T10,S10,T))\n",
    "        tmp=linear(P,X,Y)\n",
    "    if P>10 and P<=12.5:\n",
    "        X=(10,12.5)\n",
    "        Y=(Reg(T10,S10,T),Reg(T125,S125,T))\n",
    "        tmp=linear(P,X,Y)\n",
    "    if P>12.5 and P<=15:\n",
    "        X=(12.5,15)\n",
    "        Y=(Reg(T125,S125,T),Reg(T15,S15,T))\n",
    "        tmp=linear(P,X,Y)\n",
    "    if P>15 and P<=17.5:\n",
    "        X=(15,17.5)\n",
    "        Y=(Reg(T15,S15,T),Reg(T175,S175,T))\n",
    "        tmp=linear(P,X,Y)\n",
    "    if P>17.5 and P<=20:\n",
    "        X=(17.5,20)\n",
    "        Y=(Reg(T175,S175,T),Reg(T20,S20,T))\n",
    "        tmp=linear(P,X,Y)\n",
    "    \n",
    "    return tmp"
   ]
  },
  {
   "cell_type": "code",
   "execution_count": 33,
   "metadata": {},
   "outputs": [
    {
     "data": {
      "text/plain": [
       "0.003967027292810848"
      ]
     },
     "execution_count": 33,
     "metadata": {},
     "output_type": "execute_result"
    }
   ],
   "source": [
    "S(0.8,2)"
   ]
  },
  {
   "cell_type": "markdown",
   "metadata": {},
   "source": [
    "Homework μέχρι Παρασκευή 8/12\n",
    "\n",
    "Με βάση τον παραπάνω αλγόριθμο και τα αρχεία superfluid data και normal fluid data του github, να κατασκευάσετε όλες τις εξισώσεις των dens,G,A,U,H,S,Cp,Cv με βάση τα πειραματικά δεδομένα ξεχωριστά για το ρευστό και το υπερρευστό, και να δώσετε το σχετικό σφάλμα της κάθε εξίσωσης σε σχέση με τα δεδομένα από τα οποία κατασκευάστηκε.\n",
    "\n",
    "G_superfluid(T,P), G_normal_fluid(T,P)  --> G(T,P) : συνεχής και παραγωγίσιμη\n",
    "\n",
    "Bonus ερώτημα 1, να ενωθούν οι εξισώσεις του ρευστού και του υπερρευστού στη θερμοκρασία των 2.15Κ. \n",
    "Bonus ερώτημα 2, Να σχεδιαστεί το διάγραμμα θερμοκρασίας πίεσης στο οποίο να φαίνονται οι ισεντροπικές και οι ισενθαλπικές γραμμές"
   ]
  }
 ],
 "metadata": {
  "kernelspec": {
   "display_name": "base",
   "language": "python",
   "name": "python3"
  },
  "language_info": {
   "codemirror_mode": {
    "name": "ipython",
    "version": 3
   },
   "file_extension": ".py",
   "mimetype": "text/x-python",
   "name": "python",
   "nbconvert_exporter": "python",
   "pygments_lexer": "ipython3",
   "version": "3.9.12"
  }
 },
 "nbformat": 4,
 "nbformat_minor": 2
}
