{
 "cells": [
  {
   "cell_type": "code",
   "execution_count": 2,
   "metadata": {},
   "outputs": [
    {
     "name": "stdout",
     "output_type": "stream",
     "text": [
      "Predicted Class: 0\n"
     ]
    }
   ],
   "source": [
    "import numpy as np\n",
    "\n",
    "X_train = np.array([[1, 2], [2, 3], [3, 3], [6, 5], [7, 7], [8, 7]])\n",
    "y_train = np.array([0, 0, 0, 1, 1, 1])  \n",
    "\n",
    "\n",
    "def euclidean_distance(point1, point2):\n",
    "    return np.sqrt(np.sum((point1 - point2) ** 2))\n",
    "\n",
    "def predict_knn(X_train, y_train, test_point, k):\n",
    "    distances = []\n",
    "\n",
    "    for i in range(len(X_train)):\n",
    "        distance = euclidean_distance(test_point, X_train[i])\n",
    "        distances.append((distance, y_train[i]))\n",
    "\n",
    "\n",
    "    distances.sort(key=lambda x: x[0])\n",
    "    neighbors = distances[:k]\n",
    "\n",
    "\n",
    "    class_votes = {}\n",
    "    for _, class_label in neighbors:\n",
    "        if class_label in class_votes:\n",
    "            class_votes[class_label] += 1\n",
    "        else:\n",
    "            class_votes[class_label] = 1\n",
    "\n",
    "\n",
    "    sorted_votes = sorted(class_votes.items(), key=lambda x: x[1], reverse=True)\n",
    "    return sorted_votes[0][0]\n",
    "\n",
    "test_point = np.array([2, 3])\n",
    "k = 3\n",
    "predicted_class = predict_knn(X_train, y_train, test_point, k)\n",
    "print(\"Predicted Class:\", predicted_class)\n"
   ]
  },
  {
   "cell_type": "code",
   "execution_count": null,
   "metadata": {},
   "outputs": [],
   "source": []
  }
 ],
 "metadata": {
  "kernelspec": {
   "display_name": "base",
   "language": "python",
   "name": "python3"
  },
  "language_info": {
   "codemirror_mode": {
    "name": "ipython",
    "version": 3
   },
   "file_extension": ".py",
   "mimetype": "text/x-python",
   "name": "python",
   "nbconvert_exporter": "python",
   "pygments_lexer": "ipython3",
   "version": "3.9.12"
  }
 },
 "nbformat": 4,
 "nbformat_minor": 2
}
